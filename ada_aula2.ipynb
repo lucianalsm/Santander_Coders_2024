{
 "cells": [
  {
   "cell_type": "code",
   "execution_count": 3,
   "metadata": {},
   "outputs": [
    {
     "name": "stdout",
     "output_type": "stream",
     "text": [
      "['C19' 'C19' 'no' 'no']\n"
     ]
    }
   ],
   "source": [
    "import numpy as np\n",
    "is_covid_positivo= np.array(['yes', 'yes','no', 'no'])\n",
    "mask = (is_covid_positivo == 'yes')\n",
    "is_covid_positivo[mask]= 'C19'\n",
    "print(is_covid_positivo)\n",
    "\n",
    "\n"
   ]
  },
  {
   "cell_type": "code",
   "execution_count": 14,
   "metadata": {},
   "outputs": [
    {
     "name": "stdout",
     "output_type": "stream",
     "text": [
      "[ 4  5  9 10  6]\n",
      "[False  True  True  True  True]\n"
     ]
    }
   ],
   "source": [
    "import numpy as np\n",
    "notas_oitava_serie= np.array([4,5,9,10,6])\n",
    "passou =(notas_oitava_serie >= 5)\n",
    "\n",
    "bombou = (notas_oitava_serie < 5)\n",
    "\n",
    "\n",
    "print(notas_oitava_serie)\n",
    "print(passou)"
   ]
  }
 ],
 "metadata": {
  "kernelspec": {
   "display_name": ".venv",
   "language": "python",
   "name": "python3"
  },
  "language_info": {
   "codemirror_mode": {
    "name": "ipython",
    "version": 3
   },
   "file_extension": ".py",
   "mimetype": "text/x-python",
   "name": "python",
   "nbconvert_exporter": "python",
   "pygments_lexer": "ipython3",
   "version": "3.11.0"
  }
 },
 "nbformat": 4,
 "nbformat_minor": 2
}
