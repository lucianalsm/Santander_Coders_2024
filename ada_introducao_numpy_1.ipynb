{
 "cells": [
  {
   "cell_type": "code",
   "execution_count": null,
   "metadata": {},
   "outputs": [],
   "source": []
  },
  {
   "cell_type": "code",
   "execution_count": null,
   "metadata": {},
   "outputs": [
    {
     "name": "stdout",
     "output_type": "stream",
     "text": [
      "0\n"
     ]
    },
    {
     "ename": "ValueError",
     "evalue": "invalid literal for int() with base 10: 'f'",
     "output_type": "error",
     "traceback": [
      "\u001b[0;31m---------------------------------------------------------------------------\u001b[0m",
      "\u001b[0;31mValueError\u001b[0m                                Traceback (most recent call last)",
      "Cell \u001b[0;32mIn[15], line 5\u001b[0m\n\u001b[1;32m      3\u001b[0m \u001b[38;5;28;01mfor\u001b[39;00m i \u001b[38;5;129;01min\u001b[39;00m \u001b[38;5;28mrange\u001b[39m(\u001b[38;5;241m10\u001b[39m):\n\u001b[1;32m      4\u001b[0m     \u001b[38;5;28mprint\u001b[39m(i)\n\u001b[0;32m----> 5\u001b[0m     lista\u001b[38;5;241m.\u001b[39mappend(\u001b[38;5;28;43mint\u001b[39;49m\u001b[43m(\u001b[49m\u001b[38;5;28;43minput\u001b[39;49m\u001b[43m(\u001b[49m\u001b[38;5;124;43m'\u001b[39;49m\u001b[38;5;124;43mDigite 10 numeros\u001b[39;49m\u001b[38;5;124;43m'\u001b[39;49m\u001b[43m)\u001b[49m\u001b[43m)\u001b[49m)\n\u001b[1;32m      6\u001b[0m meu_array\u001b[38;5;241m=\u001b[39m np\u001b[38;5;241m.\u001b[39marray(lista)\n\u001b[1;32m      8\u001b[0m \u001b[38;5;28mprint\u001b[39m(lista)\n",
      "\u001b[0;31mValueError\u001b[0m: invalid literal for int() with base 10: 'f'"
     ]
    }
   ],
   "source": [
    "import numpy as np \n",
    "lista = []\n",
    "for i in range(10):\n",
    "    print(i)\n",
    "    lista.append(int(input('Digite 10 numeros')))\n",
    "meu_array= np.array(lista)\n",
    "\n",
    "print(lista)\n",
    "print('Maximo',meu_array.max())\n",
    "print('Minimo',meu_array.min())\n",
    "print('Desvio padrao',meu_array.std())\n",
    "print('Media', meu_array.mean())\n",
    "print('Posiçao do menor', meu_array.argmin())\n",
    "print('Posiçao do maior ', meu_array.argmax())"
   ]
  },
  {
   "cell_type": "code",
   "execution_count": 5,
   "metadata": {},
   "outputs": [
    {
     "name": "stdout",
     "output_type": "stream",
     "text": [
      "0\n",
      "1\n",
      "2\n",
      "3\n",
      "4\n",
      "[9.7 8.  7.2 4.5 6.9]\n"
     ]
    }
   ],
   "source": [
    "import numpy as np\n",
    "lista_de_notas=[]\n",
    "for i in range(5):\n",
    "    print(i)\n",
    "    lista_de_notas.append(float(input('Digite a nota do aluno')))\n",
    "meu_array= np.array(lista_de_notas)  \n",
    "print(meu_array)  "
   ]
  }
 ],
 "metadata": {
  "kernelspec": {
   "display_name": ".venv",
   "language": "python",
   "name": "python3"
  },
  "language_info": {
   "codemirror_mode": {
    "name": "ipython",
    "version": 3
   },
   "file_extension": ".py",
   "mimetype": "text/x-python",
   "name": "python",
   "nbconvert_exporter": "python",
   "pygments_lexer": "ipython3",
   "version": "3.11.0"
  }
 },
 "nbformat": 4,
 "nbformat_minor": 2
}
