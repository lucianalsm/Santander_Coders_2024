{
 "cells": [
  {
   "cell_type": "code",
   "execution_count": 7,
   "metadata": {},
   "outputs": [
    {
     "data": {
      "text/html": [
       "<div>\n",
       "<style scoped>\n",
       "    .dataframe tbody tr th:only-of-type {\n",
       "        vertical-align: middle;\n",
       "    }\n",
       "\n",
       "    .dataframe tbody tr th {\n",
       "        vertical-align: top;\n",
       "    }\n",
       "\n",
       "    .dataframe thead th {\n",
       "        text-align: right;\n",
       "    }\n",
       "</style>\n",
       "<table border=\"1\" class=\"dataframe\">\n",
       "  <thead>\n",
       "    <tr style=\"text-align: right;\">\n",
       "      <th></th>\n",
       "      <th>Nome da musica</th>\n",
       "      <th>artista</th>\n",
       "      <th>posiçao na ultima semana</th>\n",
       "      <th>posiçao atual</th>\n",
       "      <th>semanas consecutivas na lista</th>\n",
       "    </tr>\n",
       "  </thead>\n",
       "  <tbody>\n",
       "    <tr>\n",
       "      <th>0</th>\n",
       "      <td>9 sinfonia</td>\n",
       "      <td>Beethoven</td>\n",
       "      <td>19</td>\n",
       "      <td>1</td>\n",
       "      <td>1</td>\n",
       "    </tr>\n",
       "    <tr>\n",
       "      <th>1</th>\n",
       "      <td>Bachianas Brasileiras 5</td>\n",
       "      <td>Villa Lobos</td>\n",
       "      <td>7</td>\n",
       "      <td>2</td>\n",
       "      <td>3</td>\n",
       "    </tr>\n",
       "    <tr>\n",
       "      <th>2</th>\n",
       "      <td>Cavatina</td>\n",
       "      <td>Stanley Meyers</td>\n",
       "      <td>4</td>\n",
       "      <td>3</td>\n",
       "      <td>4</td>\n",
       "    </tr>\n",
       "    <tr>\n",
       "      <th>3</th>\n",
       "      <td>Sevilla</td>\n",
       "      <td>Isaac Albeniz</td>\n",
       "      <td>1</td>\n",
       "      <td>4</td>\n",
       "      <td>1</td>\n",
       "    </tr>\n",
       "    <tr>\n",
       "      <th>4</th>\n",
       "      <td>Valsa Venezuelana</td>\n",
       "      <td>Antonio Lauro</td>\n",
       "      <td>3</td>\n",
       "      <td>5</td>\n",
       "      <td>2</td>\n",
       "    </tr>\n",
       "  </tbody>\n",
       "</table>\n",
       "</div>"
      ],
      "text/plain": [
       "            Nome da musica         artista  posiçao na ultima semana  \\\n",
       "0               9 sinfonia       Beethoven                        19   \n",
       "1  Bachianas Brasileiras 5     Villa Lobos                         7   \n",
       "2                 Cavatina  Stanley Meyers                         4   \n",
       "3                  Sevilla   Isaac Albeniz                         1   \n",
       "4        Valsa Venezuelana   Antonio Lauro                         3   \n",
       "\n",
       "   posiçao atual  semanas consecutivas na lista  \n",
       "0              1                              1  \n",
       "1              2                              3  \n",
       "2              3                              4  \n",
       "3              4                              1  \n",
       "4              5                              2  "
      ]
     },
     "execution_count": 7,
     "metadata": {},
     "output_type": "execute_result"
    }
   ],
   "source": [
    "import pandas as pd\n",
    "\n",
    "# criar um dicionário Billboard 5, músicas mais populares da semana, com nome da música, artista, posiçao na ultima semana, posiçao na semana atual\n",
    "## e semanas consecutivas na lista\n",
    "\n",
    "billboard = { 'Nome da musica': [ '9 sinfonia', 'Bachianas Brasileiras 5', 'Cavatina', 'Sevilla', 'Valsa Venezuelana'], \n",
    "              'artista': ['Beethoven', 'Villa Lobos', 'Stanley Meyers', 'Isaac Albeniz', 'Antonio Lauro'], \n",
    "              'posiçao na ultima semana':[19, 7, 4, 1,3 ], 'posiçao atual': [1,2,3,4,5], 'semanas consecutivas na lista': [1,3,4,1,2]}\n",
    "\n",
    "df = pd.DataFrame(billboard)\n",
    "df"
   ]
  }
 ],
 "metadata": {
  "kernelspec": {
   "display_name": ".venv",
   "language": "python",
   "name": "python3"
  },
  "language_info": {
   "codemirror_mode": {
    "name": "ipython",
    "version": 3
   },
   "file_extension": ".py",
   "mimetype": "text/x-python",
   "name": "python",
   "nbconvert_exporter": "python",
   "pygments_lexer": "ipython3",
   "version": "3.11.0"
  }
 },
 "nbformat": 4,
 "nbformat_minor": 2
}
